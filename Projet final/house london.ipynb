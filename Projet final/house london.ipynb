{
 "cells": [
  {
   "cell_type": "markdown",
   "metadata": {},
   "source": [
    "# London House Price"
   ]
  },
  {
   "cell_type": "markdown",
   "metadata": {},
   "source": [
    "\n",
    "The London housing market is one of the most significant and closely watched in the world. As the capital city of the United Kingdom, London is a global financial center, attracting both residents and investors from around the globe. Over the years, house prices in London have generally risen due to a combination of strong economic growth, a growing population, and limited housing supply. The demand for properties is high, driven by the city’s role as a business and cultural hub, while the availability of land for new development is constrained by strict planning regulations. This has led to steep price increases, particularly in central and sought-after areas of the city. Despite occasional market fluctuations, such as those seen during the Brexit process and the COVID-19 pandemic, London remains one of the most expensive cities to buy or rent a home, with property values continuing to rise due to ongoing demand."
   ]
  },
  {
   "cell_type": "markdown",
   "metadata": {},
   "source": [
    "\n",
    "Every line in this dataset represents an individual property in the City of London. Each row includes detailed information about one specific house or apartment, including its location, physical characteristics (e.g., number of rooms, square footage), property type, and estimated sale or rental prices.\n",
    "\n",
    "The provider of this dataset is the UK Government (the City of London). This website (https://data.london.gov.uk/dataset/) offers a lot of data related to property, urban planning, and housing...\n",
    "This dataset has likely been collected from a combination of public and administrative records:\n",
    "\n",
    "\n",
    "Here’s a breakdown of each column and whether it represents unique values:\n",
    "\n",
    "- fullAddress, postcode, outcode, country: These represent location-based information. fullAddress is unique for each property, while postcode and outcode might repeat if multiple properties share the same area.\n",
    "- latitude, longitude: These are geographic coordinates for each property and are generally unique per property.\n",
    "- bathrooms, bedrooms, livingRooms, floorAreaSqM: These represent physical characteristics of each property. Values may repeat, especially for properties with similar layouts.\n",
    "- tenure: Indicates the property’s ownership type (e.g., freehold or leasehold). It is not unique, as multiple properties share the same tenure type.\n",
    "- propertyType: Specifies the type of property (e.g., flat, house), not unique.\n",
    "- currentEnergyRating: Shows the energy efficiency rating of the property, not unique.\n",
    "- Price columns (rentEstimate_lowerPrice, rentEstimate_currentPrice, rentEstimate_upperPrice, saleEstimate_lowerPrice, saleEstimate_currentPrice, saleEstimate_upperPrice): These show various price estimates and are not unique, especially when properties are of similar types in similar locations.\n",
    "saleEstimate_confidenceLevel: Indicates confidence in the estimated price, not unique.\n",
    "saleEstimate_ingestedAt, saleEstimate_valueChange.saleDate, history_date: Represent date fields, such as the date of price estimation or sale date. These may not be unique, as properties could be updated or transacted on the same day.\n",
    "- saleEstimate_valueChange.numericChange, saleEstimate_valueChange.percentageChange, history_price, history_percentageChange, history_numericChange: These show price changes over time in numeric or percentage terms. These values are not unique since they can be similar for properties in the same area or market.\n",
    "\n",
    "This dataset likely represents a subset of the total property market rather than the full population. Only properties within the boundaries of the City of London are included.Properties with missing critical information (like sale price or location) might be excluded for accuracy and consistency."
   ]
  },
  {
   "cell_type": "code",
   "execution_count": 28,
   "metadata": {},
   "outputs": [
    {
     "data": {
      "text/html": [
       "<div>\n",
       "<style scoped>\n",
       "    .dataframe tbody tr th:only-of-type {\n",
       "        vertical-align: middle;\n",
       "    }\n",
       "\n",
       "    .dataframe tbody tr th {\n",
       "        vertical-align: top;\n",
       "    }\n",
       "\n",
       "    .dataframe thead th {\n",
       "        text-align: right;\n",
       "    }\n",
       "</style>\n",
       "<table border=\"1\" class=\"dataframe\">\n",
       "  <thead>\n",
       "    <tr style=\"text-align: right;\">\n",
       "      <th></th>\n",
       "      <th>fullAddress</th>\n",
       "      <th>postcode</th>\n",
       "      <th>country</th>\n",
       "      <th>outcode</th>\n",
       "      <th>latitude</th>\n",
       "      <th>longitude</th>\n",
       "      <th>bathrooms</th>\n",
       "      <th>bedrooms</th>\n",
       "      <th>floorAreaSqM</th>\n",
       "      <th>livingRooms</th>\n",
       "      <th>...</th>\n",
       "      <th>saleEstimate_upperPrice</th>\n",
       "      <th>saleEstimate_confidenceLevel</th>\n",
       "      <th>saleEstimate_ingestedAt</th>\n",
       "      <th>saleEstimate_valueChange.numericChange</th>\n",
       "      <th>saleEstimate_valueChange.percentageChange</th>\n",
       "      <th>saleEstimate_valueChange.saleDate</th>\n",
       "      <th>history_date</th>\n",
       "      <th>history_price</th>\n",
       "      <th>history_percentageChange</th>\n",
       "      <th>history_numericChange</th>\n",
       "    </tr>\n",
       "  </thead>\n",
       "  <tbody>\n",
       "    <tr>\n",
       "      <th>0</th>\n",
       "      <td>1 Guinness Court, Mansell Street, London, E1 8AB</td>\n",
       "      <td>E1 8AB</td>\n",
       "      <td>England</td>\n",
       "      <td>E1</td>\n",
       "      <td>51.512982</td>\n",
       "      <td>-0.073698</td>\n",
       "      <td>1.0</td>\n",
       "      <td>2.0</td>\n",
       "      <td>79.0</td>\n",
       "      <td>NaN</td>\n",
       "      <td>...</td>\n",
       "      <td>666000.0</td>\n",
       "      <td>LOW</td>\n",
       "      <td>2024-10-07T13:26:59.894Z</td>\n",
       "      <td>-29445000.0</td>\n",
       "      <td>-98.150000</td>\n",
       "      <td>2020-03-27</td>\n",
       "      <td>2020-03-27</td>\n",
       "      <td>30000000</td>\n",
       "      <td>NaN</td>\n",
       "      <td>NaN</td>\n",
       "    </tr>\n",
       "    <tr>\n",
       "      <th>1</th>\n",
       "      <td>306 Marlyn Lodge, 2 Portsoken Street, London, ...</td>\n",
       "      <td>E1 8RB</td>\n",
       "      <td>England</td>\n",
       "      <td>E1</td>\n",
       "      <td>51.511881</td>\n",
       "      <td>-0.073471</td>\n",
       "      <td>1.0</td>\n",
       "      <td>1.0</td>\n",
       "      <td>54.0</td>\n",
       "      <td>1.0</td>\n",
       "      <td>...</td>\n",
       "      <td>546000.0</td>\n",
       "      <td>MEDIUM</td>\n",
       "      <td>2024-10-07T13:26:59.894Z</td>\n",
       "      <td>46000.0</td>\n",
       "      <td>10.222222</td>\n",
       "      <td>2022-09-16</td>\n",
       "      <td>2022-09-16</td>\n",
       "      <td>450000</td>\n",
       "      <td>NaN</td>\n",
       "      <td>NaN</td>\n",
       "    </tr>\n",
       "    <tr>\n",
       "      <th>2</th>\n",
       "      <td>Flat 1, White Rose Court, Widegate Street, Lon...</td>\n",
       "      <td>E1 7ES</td>\n",
       "      <td>England</td>\n",
       "      <td>E1</td>\n",
       "      <td>51.517972</td>\n",
       "      <td>-0.078028</td>\n",
       "      <td>2.0</td>\n",
       "      <td>2.0</td>\n",
       "      <td>73.0</td>\n",
       "      <td>1.0</td>\n",
       "      <td>...</td>\n",
       "      <td>684000.0</td>\n",
       "      <td>HIGH</td>\n",
       "      <td>2024-10-07T13:26:59.894Z</td>\n",
       "      <td>28000.0</td>\n",
       "      <td>4.494382</td>\n",
       "      <td>2023-10-31</td>\n",
       "      <td>2023-10-31</td>\n",
       "      <td>623000</td>\n",
       "      <td>3.833333</td>\n",
       "      <td>23000.0</td>\n",
       "    </tr>\n",
       "    <tr>\n",
       "      <th>3</th>\n",
       "      <td>Flat 1, White Rose Court, Widegate Street, Lon...</td>\n",
       "      <td>E1 7ES</td>\n",
       "      <td>England</td>\n",
       "      <td>E1</td>\n",
       "      <td>51.517972</td>\n",
       "      <td>-0.078028</td>\n",
       "      <td>2.0</td>\n",
       "      <td>2.0</td>\n",
       "      <td>73.0</td>\n",
       "      <td>1.0</td>\n",
       "      <td>...</td>\n",
       "      <td>684000.0</td>\n",
       "      <td>HIGH</td>\n",
       "      <td>2024-10-07T13:26:59.894Z</td>\n",
       "      <td>28000.0</td>\n",
       "      <td>4.494382</td>\n",
       "      <td>2023-10-31</td>\n",
       "      <td>2016-03-23</td>\n",
       "      <td>600000</td>\n",
       "      <td>155.319149</td>\n",
       "      <td>365000.0</td>\n",
       "    </tr>\n",
       "    <tr>\n",
       "      <th>4</th>\n",
       "      <td>Flat 1, White Rose Court, Widegate Street, Lon...</td>\n",
       "      <td>E1 7ES</td>\n",
       "      <td>England</td>\n",
       "      <td>E1</td>\n",
       "      <td>51.517972</td>\n",
       "      <td>-0.078028</td>\n",
       "      <td>2.0</td>\n",
       "      <td>2.0</td>\n",
       "      <td>73.0</td>\n",
       "      <td>1.0</td>\n",
       "      <td>...</td>\n",
       "      <td>684000.0</td>\n",
       "      <td>HIGH</td>\n",
       "      <td>2024-10-07T13:26:59.894Z</td>\n",
       "      <td>28000.0</td>\n",
       "      <td>4.494382</td>\n",
       "      <td>2023-10-31</td>\n",
       "      <td>2005-11-28</td>\n",
       "      <td>235000</td>\n",
       "      <td>181.437126</td>\n",
       "      <td>151500.0</td>\n",
       "    </tr>\n",
       "    <tr>\n",
       "      <th>...</th>\n",
       "      <td>...</td>\n",
       "      <td>...</td>\n",
       "      <td>...</td>\n",
       "      <td>...</td>\n",
       "      <td>...</td>\n",
       "      <td>...</td>\n",
       "      <td>...</td>\n",
       "      <td>...</td>\n",
       "      <td>...</td>\n",
       "      <td>...</td>\n",
       "      <td>...</td>\n",
       "      <td>...</td>\n",
       "      <td>...</td>\n",
       "      <td>...</td>\n",
       "      <td>...</td>\n",
       "      <td>...</td>\n",
       "      <td>...</td>\n",
       "      <td>...</td>\n",
       "      <td>...</td>\n",
       "      <td>...</td>\n",
       "      <td>...</td>\n",
       "    </tr>\n",
       "    <tr>\n",
       "      <th>282867</th>\n",
       "      <td>Apartment 93, Gladstone House, 190 Strand, Lon...</td>\n",
       "      <td>WC2R 1AB</td>\n",
       "      <td>England</td>\n",
       "      <td>WC2R</td>\n",
       "      <td>51.512331</td>\n",
       "      <td>-0.113934</td>\n",
       "      <td>NaN</td>\n",
       "      <td>NaN</td>\n",
       "      <td>180.0</td>\n",
       "      <td>NaN</td>\n",
       "      <td>...</td>\n",
       "      <td>3934000.0</td>\n",
       "      <td>LOW</td>\n",
       "      <td>2024-10-07T13:26:59.894Z</td>\n",
       "      <td>-1447000.0</td>\n",
       "      <td>-30.624339</td>\n",
       "      <td>2017-06-02</td>\n",
       "      <td>2017-06-02</td>\n",
       "      <td>4725000</td>\n",
       "      <td>NaN</td>\n",
       "      <td>NaN</td>\n",
       "    </tr>\n",
       "    <tr>\n",
       "      <th>282868</th>\n",
       "      <td>Apartment 94, Gladstone House, 190 Strand, Lon...</td>\n",
       "      <td>WC2R 1AB</td>\n",
       "      <td>England</td>\n",
       "      <td>WC2R</td>\n",
       "      <td>51.512331</td>\n",
       "      <td>-0.113934</td>\n",
       "      <td>NaN</td>\n",
       "      <td>NaN</td>\n",
       "      <td>152.0</td>\n",
       "      <td>NaN</td>\n",
       "      <td>...</td>\n",
       "      <td>4310000.0</td>\n",
       "      <td>LOW</td>\n",
       "      <td>2024-10-07T13:26:59.894Z</td>\n",
       "      <td>-1327000.0</td>\n",
       "      <td>-26.975543</td>\n",
       "      <td>2017-09-20</td>\n",
       "      <td>2017-09-20</td>\n",
       "      <td>4918900</td>\n",
       "      <td>NaN</td>\n",
       "      <td>NaN</td>\n",
       "    </tr>\n",
       "    <tr>\n",
       "      <th>282869</th>\n",
       "      <td>Apartment 95, Gladstone House, 190 Strand, Lon...</td>\n",
       "      <td>WC2R 1AB</td>\n",
       "      <td>England</td>\n",
       "      <td>WC2R</td>\n",
       "      <td>51.512331</td>\n",
       "      <td>-0.113934</td>\n",
       "      <td>NaN</td>\n",
       "      <td>NaN</td>\n",
       "      <td>200.0</td>\n",
       "      <td>NaN</td>\n",
       "      <td>...</td>\n",
       "      <td>4734000.0</td>\n",
       "      <td>LOW</td>\n",
       "      <td>2024-10-07T13:26:59.894Z</td>\n",
       "      <td>-580000.0</td>\n",
       "      <td>-12.817680</td>\n",
       "      <td>2017-04-12</td>\n",
       "      <td>2017-04-12</td>\n",
       "      <td>4525000</td>\n",
       "      <td>NaN</td>\n",
       "      <td>NaN</td>\n",
       "    </tr>\n",
       "    <tr>\n",
       "      <th>282870</th>\n",
       "      <td>9 Arundel Street, London, WC2R 3DX</td>\n",
       "      <td>WC2R 3DX</td>\n",
       "      <td>England</td>\n",
       "      <td>WC2R</td>\n",
       "      <td>51.511783</td>\n",
       "      <td>-0.113702</td>\n",
       "      <td>NaN</td>\n",
       "      <td>NaN</td>\n",
       "      <td>NaN</td>\n",
       "      <td>NaN</td>\n",
       "      <td>...</td>\n",
       "      <td>2755000.0</td>\n",
       "      <td>MEDIUM</td>\n",
       "      <td>2024-10-07T13:26:59.894Z</td>\n",
       "      <td>-346000.0</td>\n",
       "      <td>-12.142256</td>\n",
       "      <td>2018-01-16</td>\n",
       "      <td>2018-01-16</td>\n",
       "      <td>2851200</td>\n",
       "      <td>NaN</td>\n",
       "      <td>NaN</td>\n",
       "    </tr>\n",
       "    <tr>\n",
       "      <th>282871</th>\n",
       "      <td>11 Arundel Street, London, WC2R 3DX</td>\n",
       "      <td>WC2R 3DX</td>\n",
       "      <td>England</td>\n",
       "      <td>WC2R</td>\n",
       "      <td>51.511783</td>\n",
       "      <td>-0.113702</td>\n",
       "      <td>NaN</td>\n",
       "      <td>NaN</td>\n",
       "      <td>NaN</td>\n",
       "      <td>NaN</td>\n",
       "      <td>...</td>\n",
       "      <td>3139000.0</td>\n",
       "      <td>LOW</td>\n",
       "      <td>2024-10-07T13:26:59.894Z</td>\n",
       "      <td>-479000.0</td>\n",
       "      <td>-15.476575</td>\n",
       "      <td>2018-01-16</td>\n",
       "      <td>2018-01-16</td>\n",
       "      <td>3095000</td>\n",
       "      <td>NaN</td>\n",
       "      <td>NaN</td>\n",
       "    </tr>\n",
       "  </tbody>\n",
       "</table>\n",
       "<p>282872 rows × 28 columns</p>\n",
       "</div>"
      ],
      "text/plain": [
       "                                              fullAddress  postcode  country  \\\n",
       "0        1 Guinness Court, Mansell Street, London, E1 8AB    E1 8AB  England   \n",
       "1       306 Marlyn Lodge, 2 Portsoken Street, London, ...    E1 8RB  England   \n",
       "2       Flat 1, White Rose Court, Widegate Street, Lon...    E1 7ES  England   \n",
       "3       Flat 1, White Rose Court, Widegate Street, Lon...    E1 7ES  England   \n",
       "4       Flat 1, White Rose Court, Widegate Street, Lon...    E1 7ES  England   \n",
       "...                                                   ...       ...      ...   \n",
       "282867  Apartment 93, Gladstone House, 190 Strand, Lon...  WC2R 1AB  England   \n",
       "282868  Apartment 94, Gladstone House, 190 Strand, Lon...  WC2R 1AB  England   \n",
       "282869  Apartment 95, Gladstone House, 190 Strand, Lon...  WC2R 1AB  England   \n",
       "282870                 9 Arundel Street, London, WC2R 3DX  WC2R 3DX  England   \n",
       "282871                11 Arundel Street, London, WC2R 3DX  WC2R 3DX  England   \n",
       "\n",
       "       outcode   latitude  longitude  bathrooms  bedrooms  floorAreaSqM  \\\n",
       "0           E1  51.512982  -0.073698        1.0       2.0          79.0   \n",
       "1           E1  51.511881  -0.073471        1.0       1.0          54.0   \n",
       "2           E1  51.517972  -0.078028        2.0       2.0          73.0   \n",
       "3           E1  51.517972  -0.078028        2.0       2.0          73.0   \n",
       "4           E1  51.517972  -0.078028        2.0       2.0          73.0   \n",
       "...        ...        ...        ...        ...       ...           ...   \n",
       "282867    WC2R  51.512331  -0.113934        NaN       NaN         180.0   \n",
       "282868    WC2R  51.512331  -0.113934        NaN       NaN         152.0   \n",
       "282869    WC2R  51.512331  -0.113934        NaN       NaN         200.0   \n",
       "282870    WC2R  51.511783  -0.113702        NaN       NaN           NaN   \n",
       "282871    WC2R  51.511783  -0.113702        NaN       NaN           NaN   \n",
       "\n",
       "        livingRooms  ... saleEstimate_upperPrice saleEstimate_confidenceLevel  \\\n",
       "0               NaN  ...                666000.0                          LOW   \n",
       "1               1.0  ...                546000.0                       MEDIUM   \n",
       "2               1.0  ...                684000.0                         HIGH   \n",
       "3               1.0  ...                684000.0                         HIGH   \n",
       "4               1.0  ...                684000.0                         HIGH   \n",
       "...             ...  ...                     ...                          ...   \n",
       "282867          NaN  ...               3934000.0                          LOW   \n",
       "282868          NaN  ...               4310000.0                          LOW   \n",
       "282869          NaN  ...               4734000.0                          LOW   \n",
       "282870          NaN  ...               2755000.0                       MEDIUM   \n",
       "282871          NaN  ...               3139000.0                          LOW   \n",
       "\n",
       "         saleEstimate_ingestedAt  saleEstimate_valueChange.numericChange  \\\n",
       "0       2024-10-07T13:26:59.894Z                             -29445000.0   \n",
       "1       2024-10-07T13:26:59.894Z                                 46000.0   \n",
       "2       2024-10-07T13:26:59.894Z                                 28000.0   \n",
       "3       2024-10-07T13:26:59.894Z                                 28000.0   \n",
       "4       2024-10-07T13:26:59.894Z                                 28000.0   \n",
       "...                          ...                                     ...   \n",
       "282867  2024-10-07T13:26:59.894Z                              -1447000.0   \n",
       "282868  2024-10-07T13:26:59.894Z                              -1327000.0   \n",
       "282869  2024-10-07T13:26:59.894Z                               -580000.0   \n",
       "282870  2024-10-07T13:26:59.894Z                               -346000.0   \n",
       "282871  2024-10-07T13:26:59.894Z                               -479000.0   \n",
       "\n",
       "        saleEstimate_valueChange.percentageChange  \\\n",
       "0                                      -98.150000   \n",
       "1                                       10.222222   \n",
       "2                                        4.494382   \n",
       "3                                        4.494382   \n",
       "4                                        4.494382   \n",
       "...                                           ...   \n",
       "282867                                 -30.624339   \n",
       "282868                                 -26.975543   \n",
       "282869                                 -12.817680   \n",
       "282870                                 -12.142256   \n",
       "282871                                 -15.476575   \n",
       "\n",
       "        saleEstimate_valueChange.saleDate  history_date  history_price  \\\n",
       "0                              2020-03-27    2020-03-27       30000000   \n",
       "1                              2022-09-16    2022-09-16         450000   \n",
       "2                              2023-10-31    2023-10-31         623000   \n",
       "3                              2023-10-31    2016-03-23         600000   \n",
       "4                              2023-10-31    2005-11-28         235000   \n",
       "...                                   ...           ...            ...   \n",
       "282867                         2017-06-02    2017-06-02        4725000   \n",
       "282868                         2017-09-20    2017-09-20        4918900   \n",
       "282869                         2017-04-12    2017-04-12        4525000   \n",
       "282870                         2018-01-16    2018-01-16        2851200   \n",
       "282871                         2018-01-16    2018-01-16        3095000   \n",
       "\n",
       "        history_percentageChange history_numericChange  \n",
       "0                            NaN                   NaN  \n",
       "1                            NaN                   NaN  \n",
       "2                       3.833333               23000.0  \n",
       "3                     155.319149              365000.0  \n",
       "4                     181.437126              151500.0  \n",
       "...                          ...                   ...  \n",
       "282867                       NaN                   NaN  \n",
       "282868                       NaN                   NaN  \n",
       "282869                       NaN                   NaN  \n",
       "282870                       NaN                   NaN  \n",
       "282871                       NaN                   NaN  \n",
       "\n",
       "[282872 rows x 28 columns]"
      ]
     },
     "execution_count": 28,
     "metadata": {},
     "output_type": "execute_result"
    }
   ],
   "source": [
    "import pandas as pd\n",
    "\n",
    "df = pd.read_csv(\"kaggle_london_house_price_data.csv\")\n",
    "\n",
    "df\n"
   ]
  },
  {
   "cell_type": "code",
   "execution_count": 29,
   "metadata": {},
   "outputs": [
    {
     "data": {
      "text/plain": [
       "<bound method DataFrame.info of                                               fullAddress  postcode  country  \\\n",
       "0        1 Guinness Court, Mansell Street, London, E1 8AB    E1 8AB  England   \n",
       "1       306 Marlyn Lodge, 2 Portsoken Street, London, ...    E1 8RB  England   \n",
       "2       Flat 1, White Rose Court, Widegate Street, Lon...    E1 7ES  England   \n",
       "3       Flat 1, White Rose Court, Widegate Street, Lon...    E1 7ES  England   \n",
       "4       Flat 1, White Rose Court, Widegate Street, Lon...    E1 7ES  England   \n",
       "...                                                   ...       ...      ...   \n",
       "282867  Apartment 93, Gladstone House, 190 Strand, Lon...  WC2R 1AB  England   \n",
       "282868  Apartment 94, Gladstone House, 190 Strand, Lon...  WC2R 1AB  England   \n",
       "282869  Apartment 95, Gladstone House, 190 Strand, Lon...  WC2R 1AB  England   \n",
       "282870                 9 Arundel Street, London, WC2R 3DX  WC2R 3DX  England   \n",
       "282871                11 Arundel Street, London, WC2R 3DX  WC2R 3DX  England   \n",
       "\n",
       "       outcode   latitude  longitude  bathrooms  bedrooms  floorAreaSqM  \\\n",
       "0           E1  51.512982  -0.073698        1.0       2.0          79.0   \n",
       "1           E1  51.511881  -0.073471        1.0       1.0          54.0   \n",
       "2           E1  51.517972  -0.078028        2.0       2.0          73.0   \n",
       "3           E1  51.517972  -0.078028        2.0       2.0          73.0   \n",
       "4           E1  51.517972  -0.078028        2.0       2.0          73.0   \n",
       "...        ...        ...        ...        ...       ...           ...   \n",
       "282867    WC2R  51.512331  -0.113934        NaN       NaN         180.0   \n",
       "282868    WC2R  51.512331  -0.113934        NaN       NaN         152.0   \n",
       "282869    WC2R  51.512331  -0.113934        NaN       NaN         200.0   \n",
       "282870    WC2R  51.511783  -0.113702        NaN       NaN           NaN   \n",
       "282871    WC2R  51.511783  -0.113702        NaN       NaN           NaN   \n",
       "\n",
       "        livingRooms  ... saleEstimate_upperPrice saleEstimate_confidenceLevel  \\\n",
       "0               NaN  ...                666000.0                          LOW   \n",
       "1               1.0  ...                546000.0                       MEDIUM   \n",
       "2               1.0  ...                684000.0                         HIGH   \n",
       "3               1.0  ...                684000.0                         HIGH   \n",
       "4               1.0  ...                684000.0                         HIGH   \n",
       "...             ...  ...                     ...                          ...   \n",
       "282867          NaN  ...               3934000.0                          LOW   \n",
       "282868          NaN  ...               4310000.0                          LOW   \n",
       "282869          NaN  ...               4734000.0                          LOW   \n",
       "282870          NaN  ...               2755000.0                       MEDIUM   \n",
       "282871          NaN  ...               3139000.0                          LOW   \n",
       "\n",
       "         saleEstimate_ingestedAt  saleEstimate_valueChange.numericChange  \\\n",
       "0       2024-10-07T13:26:59.894Z                             -29445000.0   \n",
       "1       2024-10-07T13:26:59.894Z                                 46000.0   \n",
       "2       2024-10-07T13:26:59.894Z                                 28000.0   \n",
       "3       2024-10-07T13:26:59.894Z                                 28000.0   \n",
       "4       2024-10-07T13:26:59.894Z                                 28000.0   \n",
       "...                          ...                                     ...   \n",
       "282867  2024-10-07T13:26:59.894Z                              -1447000.0   \n",
       "282868  2024-10-07T13:26:59.894Z                              -1327000.0   \n",
       "282869  2024-10-07T13:26:59.894Z                               -580000.0   \n",
       "282870  2024-10-07T13:26:59.894Z                               -346000.0   \n",
       "282871  2024-10-07T13:26:59.894Z                               -479000.0   \n",
       "\n",
       "        saleEstimate_valueChange.percentageChange  \\\n",
       "0                                      -98.150000   \n",
       "1                                       10.222222   \n",
       "2                                        4.494382   \n",
       "3                                        4.494382   \n",
       "4                                        4.494382   \n",
       "...                                           ...   \n",
       "282867                                 -30.624339   \n",
       "282868                                 -26.975543   \n",
       "282869                                 -12.817680   \n",
       "282870                                 -12.142256   \n",
       "282871                                 -15.476575   \n",
       "\n",
       "        saleEstimate_valueChange.saleDate  history_date  history_price  \\\n",
       "0                              2020-03-27    2020-03-27       30000000   \n",
       "1                              2022-09-16    2022-09-16         450000   \n",
       "2                              2023-10-31    2023-10-31         623000   \n",
       "3                              2023-10-31    2016-03-23         600000   \n",
       "4                              2023-10-31    2005-11-28         235000   \n",
       "...                                   ...           ...            ...   \n",
       "282867                         2017-06-02    2017-06-02        4725000   \n",
       "282868                         2017-09-20    2017-09-20        4918900   \n",
       "282869                         2017-04-12    2017-04-12        4525000   \n",
       "282870                         2018-01-16    2018-01-16        2851200   \n",
       "282871                         2018-01-16    2018-01-16        3095000   \n",
       "\n",
       "        history_percentageChange history_numericChange  \n",
       "0                            NaN                   NaN  \n",
       "1                            NaN                   NaN  \n",
       "2                       3.833333               23000.0  \n",
       "3                     155.319149              365000.0  \n",
       "4                     181.437126              151500.0  \n",
       "...                          ...                   ...  \n",
       "282867                       NaN                   NaN  \n",
       "282868                       NaN                   NaN  \n",
       "282869                       NaN                   NaN  \n",
       "282870                       NaN                   NaN  \n",
       "282871                       NaN                   NaN  \n",
       "\n",
       "[282872 rows x 28 columns]>"
      ]
     },
     "execution_count": 29,
     "metadata": {},
     "output_type": "execute_result"
    }
   ],
   "source": [
    "df.info"
   ]
  },
  {
   "cell_type": "code",
   "execution_count": 30,
   "metadata": {},
   "outputs": [
    {
     "name": "stdout",
     "output_type": "stream",
     "text": [
      "Index(['fullAddress', 'postcode', 'country', 'outcode', 'latitude',\n",
      "       'longitude', 'bathrooms', 'bedrooms', 'floorAreaSqM', 'livingRooms',\n",
      "       'tenure', 'propertyType', 'currentEnergyRating',\n",
      "       'rentEstimate_lowerPrice', 'rentEstimate_currentPrice',\n",
      "       'rentEstimate_upperPrice', 'saleEstimate_lowerPrice',\n",
      "       'saleEstimate_currentPrice', 'saleEstimate_upperPrice',\n",
      "       'saleEstimate_confidenceLevel', 'saleEstimate_ingestedAt',\n",
      "       'saleEstimate_valueChange.numericChange',\n",
      "       'saleEstimate_valueChange.percentageChange',\n",
      "       'saleEstimate_valueChange.saleDate', 'history_date', 'history_price',\n",
      "       'history_percentageChange', 'history_numericChange'],\n",
      "      dtype='object')\n"
     ]
    }
   ],
   "source": [
    "print(df.columns)"
   ]
  },
  {
   "cell_type": "code",
   "execution_count": 31,
   "metadata": {},
   "outputs": [
    {
     "data": {
      "text/plain": [
       "propertyType\n",
       "Purpose Built Flat        72929\n",
       "Flat/Maisonette           65023\n",
       "Mid Terrace House         47881\n",
       "Converted Flat            34058\n",
       "Semi-Detached House       21881\n",
       "Terrace Property          16551\n",
       "End Terrace House         13924\n",
       "Detached House             7201\n",
       "Terraced                   1075\n",
       "Semi-Detached Property      301\n",
       "Bungalow Property           292\n",
       "Semi-Detached Bungalow      255\n",
       "Detached Bungalow           200\n",
       "End Terrace Property        167\n",
       "Detached Property           167\n",
       "Mid Terrace Property        141\n",
       "Mid Terrace Bungalow         69\n",
       "Terraced Bungalow            44\n",
       "End Terrace Bungalow         38\n",
       "Name: count, dtype: int64"
      ]
     },
     "execution_count": 31,
     "metadata": {},
     "output_type": "execute_result"
    }
   ],
   "source": [
    "df['propertyType'].value_counts()"
   ]
  },
  {
   "cell_type": "code",
   "execution_count": 32,
   "metadata": {},
   "outputs": [
    {
     "data": {
      "text/plain": [
       "history_price\n",
       "250000     3543\n",
       "450000     2451\n",
       "500000     2332\n",
       "400000     2197\n",
       "350000     2173\n",
       "           ... \n",
       "264800        1\n",
       "461950        1\n",
       "580950        1\n",
       "413002        1\n",
       "2851200       1\n",
       "Name: count, Length: 17479, dtype: int64"
      ]
     },
     "execution_count": 32,
     "metadata": {},
     "output_type": "execute_result"
    }
   ],
   "source": [
    "df['history_price'].value_counts()"
   ]
  },
  {
   "cell_type": "code",
   "execution_count": 33,
   "metadata": {},
   "outputs": [
    {
     "data": {
      "text/plain": [
       "currentEnergyRating\n",
       "D    93754\n",
       "C    83952\n",
       "B    22873\n",
       "E    21627\n",
       "F     1646\n",
       "G      503\n",
       "A      206\n",
       "Name: count, dtype: int64"
      ]
     },
     "execution_count": 33,
     "metadata": {},
     "output_type": "execute_result"
    }
   ],
   "source": [
    "df['currentEnergyRating'].value_counts()"
   ]
  },
  {
   "cell_type": "code",
   "execution_count": 34,
   "metadata": {},
   "outputs": [
    {
     "data": {
      "text/plain": [
       "tenure\n",
       "Leasehold    164927\n",
       "Freehold     108739\n",
       "Feudal         2135\n",
       "Shared          760\n",
       "Name: count, dtype: int64"
      ]
     },
     "execution_count": 34,
     "metadata": {},
     "output_type": "execute_result"
    }
   ],
   "source": [
    "df['tenure'].value_counts()"
   ]
  },
  {
   "cell_type": "code",
   "execution_count": 35,
   "metadata": {},
   "outputs": [
    {
     "data": {
      "text/plain": [
       "floorAreaSqM\n",
       "55.0     4763\n",
       "70.0     4149\n",
       "56.0     3979\n",
       "80.0     3721\n",
       "54.0     3674\n",
       "         ... \n",
       "459.0       2\n",
       "421.0       1\n",
       "442.0       1\n",
       "464.0       1\n",
       "441.0       1\n",
       "Name: count, Length: 489, dtype: int64"
      ]
     },
     "execution_count": 35,
     "metadata": {},
     "output_type": "execute_result"
    }
   ],
   "source": [
    "df['floorAreaSqM'].value_counts()"
   ]
  },
  {
   "cell_type": "code",
   "execution_count": 36,
   "metadata": {},
   "outputs": [
    {
     "data": {
      "text/plain": [
       "bathrooms\n",
       "1.0    152391\n",
       "2.0     62733\n",
       "3.0     12547\n",
       "4.0      2832\n",
       "5.0       763\n",
       "6.0       344\n",
       "7.0       108\n",
       "8.0        36\n",
       "9.0        15\n",
       "Name: count, dtype: int64"
      ]
     },
     "execution_count": 36,
     "metadata": {},
     "output_type": "execute_result"
    }
   ],
   "source": [
    "df['bathrooms'].value_counts()"
   ]
  },
  {
   "cell_type": "code",
   "execution_count": 37,
   "metadata": {},
   "outputs": [
    {
     "data": {
      "text/plain": [
       "bedrooms\n",
       "2.0    96214\n",
       "3.0    65392\n",
       "1.0    49657\n",
       "4.0    29441\n",
       "5.0    11908\n",
       "6.0     3134\n",
       "7.0      645\n",
       "8.0      198\n",
       "9.0       65\n",
       "Name: count, dtype: int64"
      ]
     },
     "execution_count": 37,
     "metadata": {},
     "output_type": "execute_result"
    }
   ],
   "source": [
    "df['bedrooms'].value_counts()"
   ]
  },
  {
   "cell_type": "code",
   "execution_count": 38,
   "metadata": {},
   "outputs": [
    {
     "data": {
      "text/plain": [
       "livingRooms\n",
       "1.0    185195\n",
       "2.0     48211\n",
       "3.0      8406\n",
       "4.0      1464\n",
       "5.0       346\n",
       "6.0        81\n",
       "7.0        29\n",
       "8.0         4\n",
       "9.0         1\n",
       "Name: count, dtype: int64"
      ]
     },
     "execution_count": 38,
     "metadata": {},
     "output_type": "execute_result"
    }
   ],
   "source": [
    "df['livingRooms'].value_counts()"
   ]
  },
  {
   "cell_type": "code",
   "execution_count": 39,
   "metadata": {},
   "outputs": [],
   "source": [
    "import pandas as pd\n",
    "import matplotlib.pyplot as plt\n",
    "import seaborn as sns\n"
   ]
  },
  {
   "cell_type": "code",
   "execution_count": 51,
   "metadata": {},
   "outputs": [
    {
     "name": "stdout",
     "output_type": "stream",
     "text": [
      "8588.731978738737\n"
     ]
    }
   ],
   "source": [
    "# Calcul du prix moyen par m² \n",
    "df['prix_par_m2'] = df['saleEstimate_currentPrice'] / df['floorAreaSqM']\n",
    "prix_par_m2_moyen = df['prix_par_m2'].mean()\n",
    "print(prix_par_m2_moyen)"
   ]
  },
  {
   "cell_type": "code",
   "execution_count": 53,
   "metadata": {},
   "outputs": [
    {
     "name": "stdout",
     "output_type": "stream",
     "text": [
      "99.53728750093612\n"
     ]
    }
   ],
   "source": [
    "# Calcul du la superficie moyenne\n",
    "superficie_moyenne = df['floorAreaSqM'].mean()\n",
    "\n",
    "print(superficie_moyenne)\n"
   ]
  },
  {
   "cell_type": "code",
   "execution_count": 54,
   "metadata": {},
   "outputs": [
    {
     "name": "stdout",
     "output_type": "stream",
     "text": [
      "2.497732355622745\n"
     ]
    }
   ],
   "source": [
    "# nombre de chambre moyen\n",
    "bedroom_moyenne = df['bedrooms'].mean()\n",
    "\n",
    "print(bedroom_moyenne)\n"
   ]
  },
  {
   "cell_type": "code",
   "execution_count": 56,
   "metadata": {},
   "outputs": [
    {
     "name": "stdout",
     "output_type": "stream",
     "text": [
      "1.2929961392812745\n"
     ]
    }
   ],
   "source": [
    "# nombre de chambre moyen\n",
    "lr_moyenne = df['livingRooms'].mean()\n",
    "\n",
    "print(lr_moyenne)\n"
   ]
  },
  {
   "cell_type": "code",
   "execution_count": 58,
   "metadata": {},
   "outputs": [
    {
     "name": "stdout",
     "output_type": "stream",
     "text": [
      "1.4405895525285952\n"
     ]
    }
   ],
   "source": [
    "# nombre de chambre moyen\n",
    "bathrooms_moyenne = df['bathrooms'].mean()\n",
    "\n",
    "print(bathrooms_moyenne)\n"
   ]
  },
  {
   "cell_type": "code",
   "execution_count": 41,
   "metadata": {},
   "outputs": [
    {
     "name": "stdout",
     "output_type": "stream",
     "text": [
      "          saleEstimate_currentPrice  rentEstimate_currentPrice\n",
      "postcode                                                      \n",
      "E1 0AE                 4.076250e+05                1881.250000\n",
      "E1 0AH                 4.670000e+05                2150.000000\n",
      "E1 0AQ                 4.670000e+05                2150.000000\n",
      "E1 0AZ                 3.035000e+05                1412.500000\n",
      "E1 0BE                 6.740000e+05                3108.333333\n",
      "...                             ...                        ...\n",
      "WC2R 1HA               1.273393e+06                5176.785714\n",
      "WC2R 1JA               1.832000e+06                7450.000000\n",
      "WC2R 3AT               1.888391e+06                7673.913043\n",
      "WC2R 3DX               1.994885e+06                8109.615385\n",
      "WC2R 3JJ               2.238000e+06                7850.000000\n",
      "\n",
      "[46124 rows x 2 columns]\n"
     ]
    }
   ],
   "source": [
    "# Calcul du prix moyen de vente et de location par code postal\n",
    "prix_moyen_par_postcode = df.groupby('postcode')[['saleEstimate_currentPrice', 'rentEstimate_currentPrice']].mean()\n",
    "print(prix_moyen_par_postcode)\n"
   ]
  },
  {
   "cell_type": "code",
   "execution_count": 42,
   "metadata": {},
   "outputs": [
    {
     "name": "stdout",
     "output_type": "stream",
     "text": [
      "propertyType\n",
      "Bungalow Property         7.481138e+05\n",
      "Converted Flat            6.155318e+05\n",
      "Detached Bungalow         8.615650e+05\n",
      "Detached House            2.064568e+06\n",
      "Detached Property         2.475652e+06\n",
      "End Terrace Bungalow      7.179737e+05\n",
      "End Terrace House         1.013702e+06\n",
      "End Terrace Property      1.090605e+06\n",
      "Flat/Maisonette           8.836015e+05\n",
      "Mid Terrace Bungalow      6.505942e+05\n",
      "Mid Terrace House         1.119817e+06\n",
      "Mid Terrace Property      1.781765e+06\n",
      "Purpose Built Flat        5.359662e+05\n",
      "Semi-Detached Bungalow    6.181961e+05\n",
      "Semi-Detached House       1.276044e+06\n",
      "Semi-Detached Property    1.436378e+06\n",
      "Terrace Property          1.274810e+06\n",
      "Terraced                  1.639618e+06\n",
      "Terraced Bungalow         7.768182e+05\n",
      "Name: saleEstimate_currentPrice, dtype: float64\n"
     ]
    }
   ],
   "source": [
    "# Prix moyen de vente par type de propriété\n",
    "prix_moyen_par_type = df.groupby('propertyType')['saleEstimate_currentPrice'].mean()\n",
    "print(prix_moyen_par_type)\n"
   ]
  },
  {
   "cell_type": "code",
   "execution_count": 43,
   "metadata": {},
   "outputs": [
    {
     "name": "stdout",
     "output_type": "stream",
     "text": [
      "                           saleEstimate_currentPrice  floorAreaSqM  bedrooms  \\\n",
      "saleEstimate_currentPrice                   1.000000      0.750031  0.519542   \n",
      "floorAreaSqM                                0.750031      1.000000  0.796278   \n",
      "bedrooms                                    0.519542      0.796278  1.000000   \n",
      "bathrooms                                   0.648047      0.677624  0.577078   \n",
      "\n",
      "                           bathrooms  \n",
      "saleEstimate_currentPrice   0.648047  \n",
      "floorAreaSqM                0.677624  \n",
      "bedrooms                    0.577078  \n",
      "bathrooms                   1.000000  \n"
     ]
    }
   ],
   "source": [
    "# Corrélation entre les caractéristiques et le prix de vente\n",
    "correlations = df[['saleEstimate_currentPrice', 'floorAreaSqM', 'bedrooms', 'bathrooms']].corr()\n",
    "print(correlations)\n"
   ]
  },
  {
   "cell_type": "code",
   "execution_count": 44,
   "metadata": {},
   "outputs": [
    {
     "name": "stdout",
     "output_type": "stream",
     "text": [
      "postcode\n",
      "E1 0AE       40625.000000\n",
      "E1 0AH       47000.000000\n",
      "E1 0AQ       93000.000000\n",
      "E1 0AZ       60250.000000\n",
      "E1 0BE      135333.333333\n",
      "                ...      \n",
      "WC2R 1HA    303964.285714\n",
      "WC2R 1JA    367000.000000\n",
      "WC2R 3AT    489478.260870\n",
      "WC2R 3DX    354538.461538\n",
      "WC2R 3JJ    447000.000000\n",
      "Name: sale_estimate_range, Length: 46124, dtype: float64\n"
     ]
    }
   ],
   "source": [
    "# Calcul de la fourchette d'estimation de prix par quartier\n",
    "df['sale_estimate_range'] = df['saleEstimate_upperPrice'] - df['saleEstimate_lowerPrice']\n",
    "fourchette_par_postcode = df.groupby('postcode')['sale_estimate_range'].mean()\n",
    "print(fourchette_par_postcode)\n"
   ]
  },
  {
   "cell_type": "code",
   "execution_count": 45,
   "metadata": {},
   "outputs": [
    {
     "name": "stdout",
     "output_type": "stream",
     "text": [
      "year\n",
      "1995          NaN\n",
      "1996     6.875891\n",
      "1997    18.787898\n",
      "1998    12.904391\n",
      "1999    13.237139\n",
      "2000    19.077321\n",
      "2001     8.954333\n",
      "2002    14.291509\n",
      "2003     4.142011\n",
      "2004     8.326508\n",
      "2005     4.565612\n",
      "2006    10.654844\n",
      "2007    14.646795\n",
      "2008     8.272864\n",
      "2009    -0.040880\n",
      "2010    16.762996\n",
      "2011     3.682720\n",
      "2012     2.887851\n",
      "2013    14.762460\n",
      "2014    10.532480\n",
      "2015     8.147147\n",
      "2016    -1.617762\n",
      "2017    13.325709\n",
      "2018     5.004667\n",
      "2019     0.744585\n",
      "2020     0.556122\n",
      "2021    -6.877674\n",
      "2022     5.535294\n",
      "2023    -5.016236\n",
      "2024    -8.352095\n",
      "Name: history_price, dtype: float64\n"
     ]
    }
   ],
   "source": [
    "# Conversion de la colonne 'history_date' en datetime si nécessaire\n",
    "df['history_date'] = pd.to_datetime(df['history_date'])\n",
    "\n",
    "# Calcul de la variation de prix moyenne par année\n",
    "df['year'] = df['history_date'].dt.year\n",
    "variation_par_annee = df.groupby('year')['history_price'].mean().pct_change() * 100\n",
    "print(variation_par_annee)\n"
   ]
  },
  {
   "cell_type": "code",
   "execution_count": 46,
   "metadata": {},
   "outputs": [
    {
     "name": "stdout",
     "output_type": "stream",
     "text": [
      "Propriétés surévaluées :\n",
      "                                              fullAddress  \\\n",
      "88      Flat 22, Linnell House, 50 Folgate Street, Lon...   \n",
      "89      Flat 22, Linnell House, 50 Folgate Street, Lon...   \n",
      "100     Flat 34, Exchange Building, 132 Commercial Str...   \n",
      "101     Flat 34, Exchange Building, 132 Commercial Str...   \n",
      "102     Flat 34, Exchange Building, 132 Commercial Str...   \n",
      "...                                                   ...   \n",
      "282867  Apartment 93, Gladstone House, 190 Strand, Lon...   \n",
      "282868  Apartment 94, Gladstone House, 190 Strand, Lon...   \n",
      "282869  Apartment 95, Gladstone House, 190 Strand, Lon...   \n",
      "282870                 9 Arundel Street, London, WC2R 3DX   \n",
      "282871                11 Arundel Street, London, WC2R 3DX   \n",
      "\n",
      "        saleEstimate_currentPrice  difference_moyenne  \n",
      "88                      1078000.0        1.826495e+05  \n",
      "89                      1078000.0        1.826495e+05  \n",
      "100                     1247000.0        3.516495e+05  \n",
      "101                     1247000.0        3.516495e+05  \n",
      "102                     1247000.0        3.516495e+05  \n",
      "...                           ...                 ...  \n",
      "282867                  3278000.0        2.382650e+06  \n",
      "282868                  3592000.0        2.696650e+06  \n",
      "282869                  3945000.0        3.049650e+06  \n",
      "282870                  2505000.0        1.609650e+06  \n",
      "282871                  2616000.0        1.720650e+06  \n",
      "\n",
      "[81489 rows x 3 columns]\n",
      "Propriétés sous-évaluées :\n",
      "                                              fullAddress  \\\n",
      "0        1 Guinness Court, Mansell Street, London, E1 8AB   \n",
      "1       306 Marlyn Lodge, 2 Portsoken Street, London, ...   \n",
      "2       Flat 1, White Rose Court, Widegate Street, Lon...   \n",
      "3       Flat 1, White Rose Court, Widegate Street, Lon...   \n",
      "4       Flat 1, White Rose Court, Widegate Street, Lon...   \n",
      "...                                                   ...   \n",
      "282607   Apartment 11, 1 Bull Inn Court, London, WC2R 0AL   \n",
      "282610   Apartment 14, 1 Bull Inn Court, London, WC2R 0AL   \n",
      "282634          Apartment 1, 226 Strand, London, WC2R 1BA   \n",
      "282800  Apartment 36, Wren House, 190 Strand, London, ...   \n",
      "282801  Apartment 36, Wren House, 190 Strand, London, ...   \n",
      "\n",
      "        saleEstimate_currentPrice  difference_moyenne  \n",
      "0                        555000.0      -340350.481541  \n",
      "1                        496000.0      -399350.481541  \n",
      "2                        651000.0      -244350.481541  \n",
      "3                        651000.0      -244350.481541  \n",
      "4                        651000.0      -244350.481541  \n",
      "...                           ...                 ...  \n",
      "282607                   810000.0       -85350.481541  \n",
      "282610                   757000.0      -138350.481541  \n",
      "282634                   746000.0      -149350.481541  \n",
      "282800                   786000.0      -109350.481541  \n",
      "282801                   786000.0      -109350.481541  \n",
      "\n",
      "[200834 rows x 3 columns]\n"
     ]
    }
   ],
   "source": [
    "# Calcul de la différence entre le prix de vente actuel et la moyenne par type de propriété\n",
    "prix_moyen = df['saleEstimate_currentPrice'].mean()\n",
    "df['difference_moyenne'] = df['saleEstimate_currentPrice'] - prix_moyen\n",
    "\n",
    "# Affichage des propriétés surévaluées (différence positive) et sous-évaluées (différence négative)\n",
    "print(\"Propriétés surévaluées :\")\n",
    "print(df[df['difference_moyenne'] > 0][['fullAddress', 'saleEstimate_currentPrice', 'difference_moyenne']])\n",
    "\n",
    "print(\"Propriétés sous-évaluées :\")\n",
    "print(df[df['difference_moyenne'] < 0][['fullAddress', 'saleEstimate_currentPrice', 'difference_moyenne']])\n"
   ]
  },
  {
   "cell_type": "code",
   "execution_count": 47,
   "metadata": {},
   "outputs": [
    {
     "name": "stdout",
     "output_type": "stream",
     "text": [
      "                                              fullAddress  \\\n",
      "219856  Apartment 13, 11–15 Grosvenor Crescent, London...   \n",
      "219319         Flat 1, 33 Chesham Place, London, SW1X 8HB   \n",
      "219320         Flat 1, 33 Chesham Place, London, SW1X 8HB   \n",
      "246227        21 Kensington Park Gardens, London, W11 3HD   \n",
      "250252             2 Holland Villas Road, London, W14 8BP   \n",
      "250253             2 Holland Villas Road, London, W14 8BP   \n",
      "250254             2 Holland Villas Road, London, W14 8BP   \n",
      "250255             2 Holland Villas Road, London, W14 8BP   \n",
      "250196                8 Addison Crescent, London, W14 8JP   \n",
      "250195                8 Addison Crescent, London, W14 8JP   \n",
      "\n",
      "        saleEstimate_lowerPrice  saleEstimate_upperPrice  difference  \n",
      "219856               20825000.0               31237000.0  10412000.0  \n",
      "219319               20545000.0               30817000.0  10272000.0  \n",
      "219320               20545000.0               30817000.0  10272000.0  \n",
      "246227               19174000.0               28761000.0   9587000.0  \n",
      "250252               19075000.0               28613000.0   9538000.0  \n",
      "250253               19075000.0               28613000.0   9538000.0  \n",
      "250254               19075000.0               28613000.0   9538000.0  \n",
      "250255               19075000.0               28613000.0   9538000.0  \n",
      "250196               18817000.0               28225000.0   9408000.0  \n",
      "250195               18817000.0               28225000.0   9408000.0  \n"
     ]
    },
    {
     "name": "stderr",
     "output_type": "stream",
     "text": [
      "C:\\Users\\elecl\\AppData\\Local\\Temp\\ipykernel_12240\\951335520.py:3: SettingWithCopyWarning: \n",
      "A value is trying to be set on a copy of a slice from a DataFrame.\n",
      "Try using .loc[row_indexer,col_indexer] = value instead\n",
      "\n",
      "See the caveats in the documentation: https://pandas.pydata.org/pandas-docs/stable/user_guide/indexing.html#returning-a-view-versus-a-copy\n",
      "  incertitude['difference'] = incertitude['saleEstimate_upperPrice'] - incertitude['saleEstimate_lowerPrice']\n"
     ]
    }
   ],
   "source": [
    "# Propriétés avec la plus grande incertitude d'estimation de prix\n",
    "incertitude = df[['fullAddress', 'saleEstimate_lowerPrice', 'saleEstimate_upperPrice']]\n",
    "incertitude['difference'] = incertitude['saleEstimate_upperPrice'] - incertitude['saleEstimate_lowerPrice']\n",
    "incertitude = incertitude.sort_values(by='difference', ascending=False)\n",
    "print(incertitude.head(10))\n"
   ]
  },
  {
   "cell_type": "code",
   "execution_count": 48,
   "metadata": {},
   "outputs": [
    {
     "name": "stdout",
     "output_type": "stream",
     "text": [
      "postcode\n",
      "NW3 5DX     234222.222222\n",
      "W1J 5ND     160341.463415\n",
      "W11 2NG     157123.287671\n",
      "NW8 0LT     111705.882353\n",
      "NW2 4DE      80708.333333\n",
      "                ...      \n",
      "WC2N 6JG              NaN\n",
      "WC2N 6LS              NaN\n",
      "WC2N 6LU              NaN\n",
      "WC2R 1BA              NaN\n",
      "WC2R 3JJ              NaN\n",
      "Name: prix_par_m2, Length: 46124, dtype: float64\n"
     ]
    }
   ],
   "source": [
    "# Calcul du prix moyen par m² par code postal\n",
    "df['prix_par_m2'] = df['saleEstimate_currentPrice'] / df['floorAreaSqM']\n",
    "prix_par_m2_par_postcode = df.groupby('postcode')['prix_par_m2'].mean().sort_values(ascending=False)\n",
    "print(prix_par_m2_par_postcode)\n"
   ]
  }
 ],
 "metadata": {
  "kernelspec": {
   "display_name": "Python 3",
   "language": "python",
   "name": "python3"
  },
  "language_info": {
   "codemirror_mode": {
    "name": "ipython",
    "version": 3
   },
   "file_extension": ".py",
   "mimetype": "text/x-python",
   "name": "python",
   "nbconvert_exporter": "python",
   "pygments_lexer": "ipython3",
   "version": "3.11.9"
  }
 },
 "nbformat": 4,
 "nbformat_minor": 2
}
